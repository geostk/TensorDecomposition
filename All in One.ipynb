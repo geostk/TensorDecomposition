{
 "cells": [
  {
   "cell_type": "code",
   "execution_count": 1,
   "metadata": {},
   "outputs": [],
   "source": [
    "import numpy as np\n",
    "import matplotlib.pyplot as plt\n",
    "import matplotlib.cm as cm\n",
    "import math\n",
    "import tensorflow as tf"
   ]
  },
  {
   "cell_type": "code",
   "execution_count": 2,
   "metadata": {},
   "outputs": [],
   "source": [
    "lines = [line.rstrip('\\n') for line in open('nation_triples.txt')]"
   ]
  },
  {
   "cell_type": "code",
   "execution_count": 3,
   "metadata": {},
   "outputs": [],
   "source": [
    "fact_list = []\n",
    "for line in lines:\n",
    "    fact_list.append([int(x) for x in line.split('\\t')])"
   ]
  },
  {
   "cell_type": "code",
   "execution_count": 4,
   "metadata": {},
   "outputs": [],
   "source": [
    "I = 14\n",
    "J = 14\n",
    "K = 56\n",
    "R = 5\n",
    "X = np.zeros((K,I,J))"
   ]
  },
  {
   "cell_type": "code",
   "execution_count": 5,
   "metadata": {},
   "outputs": [],
   "source": [
    "for fact in fact_list:\n",
    "    k = fact[0]\n",
    "    i = fact[1]\n",
    "    j = fact[2]\n",
    "    X[k,i,j] = 1"
   ]
  },
  {
   "cell_type": "code",
   "execution_count": 6,
   "metadata": {},
   "outputs": [
    {
     "data": {
      "image/png": "[encoded data removed]",
      "text/plain": [
       "<matplotlib.figure.Figure at 0x115efd450>"
      ]
     },
     "metadata": {},
     "output_type": "display_data"
    }
   ],
   "source": [
    "X_Show = X.reshape(K,I*J)\n",
    "plt.matshow(X_Show, cmap=cm.Greys_r)\n",
    "plt.show()"
   ]
  },
  {
   "cell_type": "code",
   "execution_count": 7,
   "metadata": {},
   "outputs": [
    {
     "data": {
      "image/png": "[encoded data removed]",
      "text/plain": [
       "<matplotlib.figure.Figure at 0x116bfa110>"
      ]
     },
     "metadata": {},
     "output_type": "display_data"
    }
   ],
   "source": [
    "M = np.random.binomial(1,0.8,I*J*K)\n",
    "M = M.reshape(K,I,J)\n",
    "X_1 = np.multiply(X,M)\n",
    "X_Show_M = X_1.reshape(K,I*J)\n",
    "plt.matshow(X_Show_M, cmap=cm.Greys_r)\n",
    "plt.show()"
   ]
  },
  {
   "cell_type": "code",
   "execution_count": 10,
   "metadata": {},
   "outputs": [],
   "source": [
    "X_2 = 1 - X_1"
   ]
  },
  {
   "cell_type": "markdown",
   "metadata": {},
   "source": [
    "# Gibbs Sampling"
   ]
  },
  {
   "cell_type": "code",
   "execution_count": 8,
   "metadata": {},
   "outputs": [],
   "source": [
    "def sample_W_H_G(S,W,H,G,a_w,b_w,a_h,b_h,a_g,b_g):\n",
    "    E_w = np.transpose((S.sum(1)).sum(2))\n",
    "    E_h = np.transpose((S.sum(1)).sum(1))\n",
    "    E_g = np.transpose((S.sum(2)).sum(2))\n",
    "    \n",
    "    Alfa_w = a_w + E_w\n",
    "    Beta_w = 1.0/((a_w/b_w)+np.tile(np.sum(np.multiply(H,np.sum(G, axis=0)),axis=0),(I,1)))\n",
    "\n",
    "    Alfa_h = a_h + E_h\n",
    "    Beta_h = 1.0/((a_h/b_h)+np.tile(np.sum(np.multiply(W,np.sum(G, axis=0)),axis=0),(J,1)))\n",
    "                  \n",
    "    Alfa_g = a_g + E_g\n",
    "    Beta_g = 1.0/((a_g/b_g)+np.tile(np.sum(np.multiply(W,np.sum(H, axis=0)),axis=0),(K,1)))\n",
    "    \n",
    "    Wnew = np.random.gamma(Alfa_w,Beta_w,(I,R))\n",
    "    Hnew = np.random.gamma(Alfa_h,Beta_h,(J,R))\n",
    "    Gnew = np.random.gamma(Alfa_g,Beta_g,(K,R))\n",
    "    \n",
    "    return Wnew,Hnew,Gnew"
   ]
  },
  {
   "cell_type": "code",
   "execution_count": 9,
   "metadata": {},
   "outputs": [],
   "source": [
    "def sample_S_masked(X1,X2,W_1,H_1,G_1,W_2,H_2,G_2,M):\n",
    "    S1 = np.zeros((R,K,I,J))\n",
    "    S2 = np.zeros((R,K,I,J))\n",
    "    for i in range(I):\n",
    "        for j in range(J):\n",
    "            for k in range(K):\n",
    "                r_r_1 = X_1[k,i,j]\n",
    "                r_r_2 = X_2[k,i,j]\n",
    "                r_n = 1\n",
    "                w_1 = W_1[i,:]\n",
    "                h_1 = H_1[j,:]\n",
    "                g_1 = G_1[k,:]\n",
    "                w_2 = W_2[i,:]\n",
    "                h_2 = H_2[j,:]\n",
    "                g_2 = G_2[k,:]\n",
    "                p_r_1 = np.multiply(np.multiply(w_1,h_1),g_1)\n",
    "                p_r_1_mod = p_r_1/(p_r_1.sum())\n",
    "                p_r_2 = np.multiply(np.multiply(w_2,h_2),g_2)\n",
    "                p_r_2_mod = p_r_2/(p_r_2.sum())\n",
    "                if M[k,i,j] == 1:\n",
    "                    s1 = np.random.multinomial(r_r_1,p_r_1_mod,size=1)\n",
    "                    s2 = np.random.multinomial(r_r_2,p_r_2_mod,size=1)\n",
    "                else:\n",
    "                    p_n = np.concatenate((p_r_1,p_r_2))/(p_r_1.sum()+p_r_2.sum())\n",
    "                    s = np.random.multinomial(r_n,p_n,size=1)\n",
    "                    s1 = s[0][0:R]\n",
    "                    s2 = s[0][R:2*R]\n",
    "                S1[:,k,i,j] = s1\n",
    "                S2[:,k,i,j] = s2\n",
    "    return S1, S2"
   ]
  },
  {
   "cell_type": "code",
   "execution_count": 11,
   "metadata": {},
   "outputs": [
    {
     "name": "stdout",
     "output_type": "stream",
     "text": [
      "100\n",
      "200\n",
      "300\n",
      "400\n",
      "500\n",
      "600\n",
      "700\n",
      "800\n",
      "900\n",
      "1000\n",
      "1100\n",
      "1200\n",
      "1300\n",
      "1400\n",
      "1500\n",
      "1600\n",
      "1700\n",
      "1800\n",
      "1900\n",
      "2000\n",
      "2100\n",
      "2200\n",
      "2300\n",
      "2400\n",
      "2500\n",
      "2600\n",
      "2700\n",
      "2800\n",
      "2900\n",
      "3000\n",
      "3100\n",
      "3200\n",
      "3300\n",
      "3400\n",
      "3500\n",
      "3600\n",
      "3700\n",
      "3800\n",
      "3900\n",
      "4000\n",
      "4100\n",
      "4200\n",
      "4300\n",
      "4400\n",
      "4500\n",
      "4600\n",
      "4700\n",
      "4800\n",
      "4900\n",
      "5000\n",
      "5100\n",
      "5200\n",
      "5300\n",
      "5400\n",
      "5500\n",
      "5600\n",
      "5700\n",
      "5800\n",
      "5900\n",
      "6000\n",
      "6100\n",
      "6200\n",
      "6300\n",
      "6400\n",
      "6500\n",
      "6600\n",
      "6700\n",
      "6800\n",
      "6900\n",
      "7000\n",
      "7100\n",
      "7200\n",
      "7300\n",
      "7400\n",
      "7500\n",
      "7600\n",
      "7700\n",
      "7800\n",
      "7900\n",
      "8000\n",
      "8100\n",
      "8200\n",
      "8300\n",
      "8400\n",
      "8500\n",
      "8600\n",
      "8700\n",
      "8800\n",
      "8900\n",
      "9000\n",
      "9100\n",
      "9200\n",
      "9300\n",
      "9400\n",
      "9500\n",
      "9600\n",
      "9700\n",
      "9800\n",
      "9900\n",
      "10000\n"
     ]
    }
   ],
   "source": [
    "#Initialize W and H\n",
    "a_w, b_w = 0.5, 0.1\n",
    "a_h, b_h = 0.5, 0.1\n",
    "a_g, b_g = 0.5, 0.1\n",
    "\n",
    "burn_in_size = 2000\n",
    "sample_size = 10000\n",
    "count = 0\n",
    "\n",
    "S_1_sum = np.zeros((R,K,I,J))\n",
    "S_1_eval = np.zeros((R,K,I,J))\n",
    "S_2_sum = np.zeros((R,K,I,J))\n",
    "S_2_eval = np.zeros((R,K,I,J))\n",
    "\n",
    "W_1 = np.random.gamma(a_w, a_w/b_w, size=(I,R))\n",
    "H_1 = np.random.gamma(a_h, a_h/b_h, size=(J,R))\n",
    "G_1 = np.random.gamma(a_g, a_g/b_g, size=(K,R))\n",
    "\n",
    "W_2 = np.random.gamma(a_w, a_w/b_w, size=(I,R))\n",
    "H_2 = np.random.gamma(a_h, a_h/b_h, size=(J,R))\n",
    "G_2 = np.random.gamma(a_g, a_g/b_g, size=(K,R))\n",
    "\n",
    "for sample in range(sample_size):\n",
    "    S_1, S_2 = sample_S_masked(X_1,X_2,W_1,H_1,G_1,W_2,H_2,G_2,M)\n",
    "    W_1, H_1, G_1 = sample_W_H_G(S_1,W_1,H_1,G_1,a_w,b_w,a_h,b_h,a_g,b_g)\n",
    "    W_2, H_2, G_2 = sample_W_H_G(S_2,W_2,H_2,G_2,a_w,b_w,a_h,b_h,a_g,b_g)\n",
    "    if count >= burn_in_size:\n",
    "        S_1_sum = S_1_sum + S_1\n",
    "        S_2_sum = S_2_sum + S_2\n",
    "        S_1_eval = S_1_sum/(count-burn_in_size+1)\n",
    "        S_2_eval = S_2_sum/(count-burn_in_size+1)\n",
    "    count = count + 1\n",
    "    if count%100 == 0:\n",
    "        print count"
   ]
  },
  {
   "cell_type": "code",
   "execution_count": 12,
   "metadata": {},
   "outputs": [
    {
     "data": {
      "image/png": "[encoded data removed]",
      "text/plain": [
       "<matplotlib.figure.Figure at 0x116c1aad0>"
      ]
     },
     "metadata": {},
     "output_type": "display_data"
    }
   ],
   "source": [
    "Data_found = np.zeros((K,I,J))\n",
    "\n",
    "for i in range(I):\n",
    "    for j in range(J):\n",
    "        for k in range(K):\n",
    "            s1 = 0\n",
    "            s2 = 0\n",
    "            for r in range(R):\n",
    "                s1 = s1 + S_1_eval[r,k,i,j]\n",
    "                s2 = s2 + S_2_eval[r,k,i,j]\n",
    "                Data_found[k,i,j] = s1/(s1+s2)\n",
    "\n",
    "Data_show = Data_found.reshape(K,I*J)\n",
    "plt.matshow(Data_show, interpolation='nearest',vmax=1,vmin=0, cmap=cm.Greys_r)\n",
    "plt.show()"
   ]
  },
  {
   "cell_type": "code",
   "execution_count": 13,
   "metadata": {},
   "outputs": [],
   "source": [
    "def precision_recall(X,M,Founded):\n",
    "    tn = 0\n",
    "    fn = 0\n",
    "    tp = 0\n",
    "    fp = 0\n",
    "    for k in range(K):\n",
    "        for i in range(I):\n",
    "            for j in range(J):\n",
    "                if M[k,i,j] == 0:\n",
    "                    if X[k,i,j] == 1:\n",
    "                        if Founded[k,i,j] == 1:\n",
    "                            tp = tp + 1\n",
    "                        else:\n",
    "                            fn = fn + 1\n",
    "                    else:\n",
    "                        if Founded[k,i,j] == 1:\n",
    "                            fp = fp + 1\n",
    "                        else:\n",
    "                            tn = tn + 1\n",
    "    try:\n",
    "        precision = (tp*1.0)/(tp+fp)\n",
    "    except:\n",
    "        precision = 1\n",
    "    try:\n",
    "        recall = (tp*1.0)/(tp+fn)\n",
    "    except:\n",
    "        recall = 1\n",
    "    return precision, recall"
   ]
  },
  {
   "cell_type": "code",
   "execution_count": 14,
   "metadata": {},
   "outputs": [],
   "source": [
    "def thresh_matrix(D,thresh):\n",
    "    th_mat = np.zeros((K,I,J))\n",
    "    for i in range(I):\n",
    "        for j in range(J):\n",
    "            for k in range(K):\n",
    "                if D[k,i,j] > thresh:\n",
    "                    th_mat[k,i,j] = 1\n",
    "    return th_mat"
   ]
  },
  {
   "cell_type": "code",
   "execution_count": 15,
   "metadata": {},
   "outputs": [
    {
     "name": "stdout",
     "output_type": "stream",
     "text": [
      "0.19212040726 1.0\n",
      "0.19212040726 1.0\n",
      "0.199172033119 0.997695852535\n",
      "0.240970654628 0.983870967742\n",
      "0.327868852459 0.967741935484\n",
      "0.438073394495 0.880184331797\n",
      "0.53781512605 0.73732718894\n",
      "0.643939393939 0.587557603687\n",
      "0.740585774059 0.407834101382\n",
      "0.75 0.228110599078\n",
      "0.855072463768 0.135944700461\n",
      "0.966666666667 0.0668202764977\n",
      "1.0 0.0253456221198\n",
      "1.0 0.0115207373272\n",
      "1.0 0.00230414746544\n",
      "1 0.0\n",
      "1 0.0\n",
      "1 0.0\n",
      "1 0.0\n",
      "1 0.0\n",
      "1 0.0\n",
      "1 0.0\n",
      "1 0.0\n",
      "1 0.0\n",
      "1 0.0\n",
      "1 0.0\n",
      "1 0.0\n",
      "1 0.0\n",
      "1 0.0\n",
      "1 0.0\n",
      "1 0.0\n",
      "1 0.0\n",
      "1 0.0\n",
      "1 0.0\n",
      "1 0.0\n",
      "1 0.0\n",
      "1 0.0\n",
      "1 0.0\n",
      "1 0.0\n",
      "1 0.0\n",
      "1 0.0\n",
      "1 0.0\n",
      "1 0.0\n",
      "1 0.0\n",
      "1 0.0\n",
      "1 0.0\n",
      "1 0.0\n",
      "1 0.0\n",
      "1 0.0\n",
      "1 0.0\n",
      "1 0.0\n",
      "1 0.0\n",
      "1 0.0\n",
      "1 0.0\n",
      "1 0.0\n",
      "1 0.0\n",
      "1 0.0\n",
      "1 0.0\n",
      "1 0.0\n",
      "1 0.0\n",
      "1 0.0\n",
      "1 0.0\n",
      "1 0.0\n",
      "1 0.0\n",
      "1 0.0\n",
      "1 0.0\n",
      "1 0.0\n",
      "1 0.0\n",
      "1 0.0\n",
      "1 0.0\n",
      "1 0.0\n",
      "1 0.0\n",
      "1 0.0\n",
      "1 0.0\n",
      "1 0.0\n",
      "1 0.0\n",
      "1 0.0\n",
      "1 0.0\n",
      "1 0.0\n",
      "1 0.0\n",
      "1 0.0\n",
      "1 0.0\n",
      "1 0.0\n",
      "1 0.0\n",
      "1 0.0\n",
      "1 0.0\n",
      "1 0.0\n",
      "1 0.0\n",
      "1 0.0\n",
      "1 0.0\n",
      "1 0.0\n",
      "1 0.0\n",
      "1 0.0\n",
      "1 0.0\n",
      "1 0.0\n",
      "1 0.0\n",
      "1 0.0\n",
      "1 0.0\n",
      "1 0.0\n",
      "1 0.0\n",
      "1 0.0\n"
     ]
    }
   ],
   "source": [
    "prec_list = []\n",
    "rec_list = []\n",
    "for thresh in np.linspace(0,1,101):\n",
    "    founded = thresh_matrix(Data_found,thresh)\n",
    "    prec, rec = precision_recall(X,M,founded)\n",
    "    prec_list.append(prec)\n",
    "    rec_list.append(rec)\n",
    "    print prec,rec"
   ]
  },
  {
   "cell_type": "code",
   "execution_count": 21,
   "metadata": {},
   "outputs": [
    {
     "data": {
      "image/png": "[encoded data removed]",
      "text/plain": [
       "<matplotlib.figure.Figure at 0x1173ff190>"
      ]
     },
     "metadata": {},
     "output_type": "display_data"
    }
   ],
   "source": [
    "plt.plot(rec_list, prec_list, 'r')\n",
    "plt.title('Precision-Recall Curve')\n",
    "plt.xlabel('Recall')\n",
    "plt.ylabel('Precision')\n",
    "axes = plt.gca()\n",
    "axes.set_xlim([0,1])\n",
    "axes.set_ylim([0,1])\n",
    "plt.show()"
   ]
  },
  {
   "cell_type": "code",
   "execution_count": 22,
   "metadata": {},
   "outputs": [
    {
     "data": {
      "text/plain": [
       "0.66123581626507888"
      ]
     },
     "execution_count": 22,
     "metadata": {},
     "output_type": "execute_result"
    }
   ],
   "source": [
    "np.trapz(prec_list[::-1], x=rec_list[::-1])"
   ]
  },
  {
   "cell_type": "markdown",
   "metadata": {},
   "source": [
    "# EM Algorithm"
   ]
  },
  {
   "cell_type": "code",
   "execution_count": 39,
   "metadata": {},
   "outputs": [
    {
     "name": "stderr",
     "output_type": "stream",
     "text": [
      "/Users/semihakbayrak/Library/Python/2.7/lib/python/site-packages/ipykernel_launcher.py:24: RuntimeWarning: invalid value encountered in divide\n"
     ]
    }
   ],
   "source": [
    "#EM algorithm\n",
    "T = 2\n",
    "MX = np.multiply(M,X_1) + np.multiply(M,X_2)\n",
    "N = np.ones((K,I,J))\n",
    "N_til = N - MX\n",
    "W_1 = np.random.rand(I,R)\n",
    "H_1 = np.random.rand(J,R)\n",
    "G_1 = np.random.rand(K,R)\n",
    "W_2 = np.random.rand(I,R)\n",
    "H_2 = np.random.rand(J,R)\n",
    "G_2 = np.random.rand(K,R)\n",
    "for t in range(T):\n",
    "    X_1_hat = np.einsum(\"ir,jr,kr->kij\",W_1,H_1,G_1)\n",
    "    X_2_hat = np.einsum(\"ir,jr,kr->kij\",W_2,H_2,G_2)\n",
    "    N_til_hat = np.multiply((1-M),X_1_hat) + np.multiply((1-M),X_2_hat)\n",
    "    Q_1_X = np.divide(np.multiply(M,X_1),X_1_hat)\n",
    "    Q_2_X = np.divide(np.multiply(M,X_2),X_2_hat)\n",
    "    Q_1_XHG = np.einsum(\"ijr,jr->ir\",np.einsum(\"kij,kr->ijr\",Q_1_X,G_1),H_1)\n",
    "    Q_2_XHG = np.einsum(\"ijr,jr->ir\",np.einsum(\"kij,kr->ijr\",Q_2_X,G_2),H_2)\n",
    "    Q_1_XWG = np.einsum(\"ijr,ir->jr\",np.einsum(\"kij,kr->ijr\",Q_1_X,G_1),W_1)\n",
    "    Q_2_XWG = np.einsum(\"ijr,ir->jr\",np.einsum(\"kij,kr->ijr\",Q_2_X,G_2),W_2)\n",
    "    Q_1_XWH = np.einsum(\"kir,ir->kr\",np.einsum(\"kij,jr->kir\",Q_1_X,H_1),W_1)\n",
    "    Q_2_XWH = np.einsum(\"kir,ir->kr\",np.einsum(\"kij,jr->kir\",Q_2_X,H_2),W_2)\n",
    "    Q_N = np.divide(np.multiply((1-M),N_til),N_til_hat)\n",
    "    Q_N = np.nan_to_num(Q_N)\n",
    "    Q_1_NHG = np.einsum(\"ijr,jr->ir\",np.einsum(\"kij,kr->ijr\",Q_N,G_1),H_1)\n",
    "    Q_2_NHG = np.einsum(\"ijr,jr->ir\",np.einsum(\"kij,kr->ijr\",Q_N,G_2),H_2)\n",
    "    Q_1_NWG = np.einsum(\"ijr,ir->jr\",np.einsum(\"kij,kr->ijr\",Q_N,G_1),W_1)\n",
    "    Q_2_NWG = np.einsum(\"ijr,ir->jr\",np.einsum(\"kij,kr->ijr\",Q_N,G_2),W_2)\n",
    "    Q_1_NWH = np.einsum(\"kir,ir->kr\",np.einsum(\"kij,jr->kir\",Q_N,H_1),W_1)\n",
    "    Q_2_NWH = np.einsum(\"kir,ir->kr\",np.einsum(\"kij,jr->kir\",Q_N,H_2),W_2)\n",
    "    ON = np.ones((K,I,J))\n",
    "    ON_1_W = np.einsum(\"ijr,jr->ir\",np.einsum(\"kij,kr->ijr\",ON,G_1),H_1)\n",
    "    ON_2_W = np.einsum(\"ijr,jr->ir\",np.einsum(\"kij,kr->ijr\",ON,G_2),H_2)\n",
    "    ON_1_H = np.einsum(\"ijr,ir->jr\",np.einsum(\"kij,kr->ijr\",ON,G_1),W_1)\n",
    "    ON_2_H = np.einsum(\"ijr,ir->jr\",np.einsum(\"kij,kr->ijr\",ON,G_2),W_2)\n",
    "    ON_1_G = np.einsum(\"kir,ir->kr\",np.einsum(\"kij,jr->kir\",ON,H_1),W_1)\n",
    "    ON_2_G = np.einsum(\"kir,ir->kr\",np.einsum(\"kij,jr->kir\",ON,H_2),W_2)\n",
    "    #Update\n",
    "    W_1 = np.nan_to_num(np.divide(np.multiply(W_1,(Q_1_XHG+Q_1_NHG)),ON_1_W))\n",
    "    W_2 = np.nan_to_num(np.divide(np.multiply(W_2,(Q_2_XHG+Q_2_NHG)),ON_2_W))\n",
    "    H_1 = np.nan_to_num(np.divide(np.multiply(H_1,(Q_1_XWG+Q_1_NWG)),ON_1_H))\n",
    "    H_2 = np.nan_to_num(np.divide(np.multiply(H_2,(Q_2_XWG+Q_2_NWG)),ON_2_H))\n",
    "    G_1 = np.nan_to_num(np.divide(np.multiply(G_1,(Q_1_XWH+Q_1_NWH)),ON_1_G))\n",
    "    G_2 = np.nan_to_num(np.divide(np.multiply(G_2,(Q_2_XWH+Q_2_NWH)),ON_2_G))"
   ]
  },
  {
   "cell_type": "code",
   "execution_count": 40,
   "metadata": {},
   "outputs": [
    {
     "data": {
      "text/plain": [
       "array([[ 0.48551863,  0.5242993 ,  0.09399649,  0.42882051,  0.09327663],\n",
       "       [ 0.55199459,  0.13482111,  0.36981094,  0.43660232,  0.27080398],\n",
       "       [ 0.45225062,  0.45186037,  0.30215561,  0.40354828,  0.00170504],\n",
       "       [ 0.15175936,  0.48230329,  0.51598713,  0.36994681,  0.17636188],\n",
       "       [ 0.30693809,  0.15680681,  0.46512664,  0.31654856,  0.4548615 ],\n",
       "       [ 0.3935992 ,  0.16210649,  0.50525023,  0.16679724,  0.45402484],\n",
       "       [ 0.26283556,  0.44723244,  0.66092408,  0.03667528,  0.59551538],\n",
       "       [ 0.63352346,  0.52979855,  0.05624064,  0.26896666,  0.28824444],\n",
       "       [ 0.47090554,  0.03577916,  0.5120099 ,  0.19827893,  0.75859892],\n",
       "       [ 0.0570057 ,  0.18697263,  0.82220763,  0.0415829 ,  0.6533075 ],\n",
       "       [ 0.15276234,  0.48528373,  0.3229081 ,  0.31171495,  0.47818652],\n",
       "       [ 0.39190812,  0.31304431,  0.36493811,  0.19842046,  0.46259603],\n",
       "       [ 0.3947682 ,  0.29303127,  0.14878765,  0.30447161,  0.28858722],\n",
       "       [ 0.26073171,  0.0178616 ,  0.22640789,  0.36203614,  0.38211547]])"
      ]
     },
     "execution_count": 40,
     "metadata": {},
     "output_type": "execute_result"
    }
   ],
   "source": [
    "H_2"
   ]
  },
  {
   "cell_type": "code",
   "execution_count": 41,
   "metadata": {},
   "outputs": [],
   "source": [
    "X_1_founded = np.einsum(\"ir,jr,kr->kij\",W_1,H_1,G_1)\n",
    "X_2_founded = np.einsum(\"ir,jr,kr->kij\",W_2,H_2,G_2)\n",
    "X_founded = np.divide(X_1_founded,(X_1_founded+X_2_founded))"
   ]
  },
  {
   "cell_type": "code",
   "execution_count": 42,
   "metadata": {},
   "outputs": [
    {
     "data": {
      "text/plain": [
       "array([[[ 0.67411066,  0.3312358 ,  0.6356152 , ...,  0.70541766,\n",
       "          0.7308747 ,  0.79651558],\n",
       "        [ 0.69941953,  0.35491848,  0.5418303 , ...,  0.60718487,\n",
       "          0.72811101,  0.74266722],\n",
       "        [ 0.73597524,  0.5143242 ,  0.76381125, ...,  0.80866669,\n",
       "          0.79286579,  0.85539695],\n",
       "        ..., \n",
       "        [ 0.75470783,  0.49893787,  0.70359091, ...,  0.72450575,\n",
       "          0.79336918,  0.85359764],\n",
       "        [ 0.84207032,  0.54951861,  0.67985576, ...,  0.78140785,\n",
       "          0.87367224,  0.88091443],\n",
       "        [ 0.8977407 ,  0.62325074,  0.81456451, ...,  0.8534425 ,\n",
       "          0.90611759,  0.893082  ]],\n",
       "\n",
       "       [[ 0.63974381,  0.37635353,  0.54489497, ...,  0.59651655,\n",
       "          0.82807944,  0.83762028],\n",
       "        [ 0.63059609,  0.34171475,  0.40289046, ...,  0.54400289,\n",
       "          0.72141753,  0.73955108],\n",
       "        [ 0.54564052,  0.38583608,  0.51003951, ...,  0.59207659,\n",
       "          0.76752437,  0.80807814],\n",
       "        ..., \n",
       "        [ 0.71531275,  0.5206896 ,  0.62465696, ...,  0.66155794,\n",
       "          0.84818558,  0.87924509],\n",
       "        [ 0.83039148,  0.63822523,  0.63987042, ...,  0.76011509,\n",
       "          0.90948707,  0.93523389],\n",
       "        [ 0.86899208,  0.62318134,  0.71586869, ...,  0.80770506,\n",
       "          0.91661975,  0.89856497]],\n",
       "\n",
       "       [[ 0.913723  ,  0.76743527,  0.89034843, ...,  0.90802237,\n",
       "          0.97203036,  0.9728499 ],\n",
       "        [ 0.87007266,  0.67939433,  0.83218619, ...,  0.87191751,\n",
       "          0.95051597,  0.96107808],\n",
       "        [ 0.84912436,  0.74642065,  0.87153135, ...,  0.8864838 ,\n",
       "          0.94964393,  0.96166292],\n",
       "        ..., \n",
       "        [ 0.92204928,  0.8420594 ,  0.92614871, ...,  0.92599168,\n",
       "          0.9753329 ,  0.9807197 ],\n",
       "        [ 0.95308752,  0.88944698,  0.92602957, ...,  0.95248265,\n",
       "          0.98622765,  0.99131372],\n",
       "        [ 0.9600889 ,  0.84466236,  0.93044082, ...,  0.93243226,\n",
       "          0.97722634,  0.9743548 ]],\n",
       "\n",
       "       ..., \n",
       "       [[ 0.79858121,  0.54517123,  0.79317688, ...,  0.82816903,\n",
       "          0.90831294,  0.92193586],\n",
       "        [ 0.66601719,  0.37882706,  0.6138675 , ...,  0.69283627,\n",
       "          0.79809316,  0.8466849 ],\n",
       "        [ 0.75010067,  0.58642888,  0.79717254, ...,  0.84812761,\n",
       "          0.8838687 ,  0.91546609],\n",
       "        ..., \n",
       "        [ 0.78528832,  0.59874868,  0.7888893 , ...,  0.81530792,\n",
       "          0.90925608,  0.93004794],\n",
       "        [ 0.84469513,  0.68385902,  0.79402599, ...,  0.84453186,\n",
       "          0.93734218,  0.96242479],\n",
       "        [ 0.89773011,  0.70012194,  0.87355671, ...,  0.88966475,\n",
       "          0.93970519,  0.94367819]],\n",
       "\n",
       "       [[ 0.95881263,  0.87628199,  0.95983782, ...,  0.97542347,\n",
       "          0.97782378,  0.98327489],\n",
       "        [ 0.94846342,  0.8452372 ,  0.9205717 , ...,  0.94602734,\n",
       "          0.96741226,  0.97262723],\n",
       "        [ 0.94193749,  0.8622474 ,  0.94988657, ...,  0.96657547,\n",
       "          0.96742083,  0.9762887 ],\n",
       "        ..., \n",
       "        [ 0.96136853,  0.88806282,  0.95165357, ...,  0.96443987,\n",
       "          0.97861308,  0.98234836],\n",
       "        [ 0.98005875,  0.94815149,  0.96375671, ...,  0.97897494,\n",
       "          0.98951943,  0.99376277],\n",
       "        [ 0.98628215,  0.94778708,  0.9795325 , ...,  0.98449724,\n",
       "          0.98973484,  0.98925494]],\n",
       "\n",
       "       [[ 0.86699717,  0.6661689 ,  0.86339402, ...,  0.88745563,\n",
       "          0.93083229,  0.94990261],\n",
       "        [ 0.81396552,  0.64083663,  0.79408973, ...,  0.84052209,\n",
       "          0.91118155,  0.94679895],\n",
       "        [ 0.84547183,  0.77074672,  0.88925823, ...,  0.92162821,\n",
       "          0.92667239,  0.96126326],\n",
       "        ..., \n",
       "        [ 0.88791948,  0.84016519,  0.91506367, ...,  0.91863864,\n",
       "          0.95324267,  0.97768929],\n",
       "        [ 0.91280421,  0.77859339,  0.86973227, ...,  0.92007864,\n",
       "          0.9666464 ,  0.98032078],\n",
       "        [ 0.94048096,  0.78441165,  0.91398995, ...,  0.93739948,\n",
       "          0.96298267,  0.96523642]]])"
      ]
     },
     "execution_count": 42,
     "metadata": {},
     "output_type": "execute_result"
    }
   ],
   "source": [
    "X_founded"
   ]
  },
  {
   "cell_type": "code",
   "execution_count": 43,
   "metadata": {},
   "outputs": [
    {
     "data": {
      "image/png": "[encoded data removed]",
      "text/plain": [
       "<matplotlib.figure.Figure at 0x117536ad0>"
      ]
     },
     "metadata": {},
     "output_type": "display_data"
    }
   ],
   "source": [
    "Data_show = X_founded.reshape(K,I*J)\n",
    "plt.matshow(Data_show, interpolation='nearest',vmax=1,vmin=0, cmap=cm.Greys_r)\n",
    "plt.show()"
   ]
  },
  {
   "cell_type": "code",
   "execution_count": 44,
   "metadata": {},
   "outputs": [
    {
     "name": "stdout",
     "output_type": "stream",
     "text": [
      "0.19212040726 1.0\n",
      "0.19212040726 1.0\n",
      "0.19212040726 1.0\n",
      "0.19212040726 1.0\n",
      "0.19212040726 1.0\n",
      "0.192205491585 1.0\n",
      "0.192290651307 1.0\n",
      "0.192375886525 1.0\n",
      "0.192632046161 1.0\n",
      "0.192974655402 1.0\n",
      "0.193490860455 1.0\n",
      "0.193663543061 1.0\n",
      "0.193836534167 1.0\n",
      "0.194357366771 1.0\n",
      "0.194793536804 1.0\n",
      "0.194881005837 1.0\n",
      "0.195495495495 1.0\n",
      "0.195760036085 1.0\n",
      "0.196291270918 1.0\n",
      "0.196736174071 1.0\n",
      "0.197093551317 1.0\n",
      "0.197266514806 0.997695852535\n",
      "0.197807217908 0.997695852535\n",
      "0.19826007326 0.997695852535\n",
      "0.198988970588 0.997695852535\n",
      "0.199447259327 0.997695852535\n",
      "0.200277520814 0.997695852535\n",
      "0.200648748842 0.997695852535\n",
      "0.201864801865 0.997695852535\n",
      "0.202336448598 0.997695852535\n",
      "0.203764705882 0.997695852535\n",
      "0.204245283019 0.997695852535\n",
      "0.205225653207 0.995391705069\n",
      "0.206205250597 0.995391705069\n",
      "0.207194244604 0.995391705069\n",
      "0.208192771084 0.995391705069\n",
      "0.208897485493 0.995391705069\n",
      "0.209223300971 0.993087557604\n",
      "0.210243902439 0.993087557604\n",
      "0.21117099461 0.993087557604\n",
      "0.211793611794 0.993087557604\n",
      "0.213366336634 0.993087557604\n",
      "0.214427860697 0.993087557604\n",
      "0.2155 0.993087557604\n",
      "0.21608040201 0.990783410138\n",
      "0.217391304348 0.990783410138\n",
      "0.218255991841 0.986175115207\n",
      "0.219825372368 0.986175115207\n",
      "0.221991701245 0.986175115207\n",
      "0.223382045929 0.986175115207\n",
      "0.224029380902 0.983870967742\n",
      "0.225448785639 0.983870967742\n",
      "0.227976508275 0.983870967742\n",
      "0.229569892473 0.983870967742\n",
      "0.231185706551 0.983870967742\n",
      "0.234100877193 0.983870967742\n",
      "0.237486095662 0.983870967742\n",
      "0.239484015704 0.983870967742\n",
      "0.240793201133 0.979262672811\n",
      "0.243413516609 0.979262672811\n",
      "0.246234067207 0.979262672811\n",
      "0.248243559719 0.976958525346\n",
      "0.252080856124 0.976958525346\n",
      "0.25450180072 0.976958525346\n",
      "0.257750759878 0.976958525346\n",
      "0.261433868974 0.97465437788\n",
      "0.26375 0.972350230415\n",
      "0.26734563972 0.967741935484\n",
      "0.269156471346 0.963133640553\n",
      "0.271131339402 0.960829493088\n",
      "0.275198938992 0.956221198157\n",
      "0.277553763441 0.951612903226\n",
      "0.283746556474 0.94930875576\n",
      "0.289139633286 0.944700460829\n",
      "0.293862815884 0.937788018433\n",
      "0.299037749815 0.930875576037\n",
      "0.306463878327 0.928571428571\n",
      "0.314509803922 0.923963133641\n",
      "0.319131832797 0.914746543779\n",
      "0.328073089701 0.910138248848\n",
      "0.335047129392 0.900921658986\n",
      "0.344335414808 0.889400921659\n",
      "0.353803849679 0.889400921659\n",
      "0.360952380952 0.873271889401\n",
      "0.370919881306 0.864055299539\n",
      "0.38125 0.84331797235\n",
      "0.396721311475 0.836405529954\n",
      "0.411021814007 0.824884792627\n",
      "0.423357664234 0.801843317972\n",
      "0.442257217848 0.776497695853\n",
      "0.460339943343 0.748847926267\n",
      "0.477519379845 0.709677419355\n",
      "0.504378283713 0.663594470046\n",
      "0.523326572008 0.594470046083\n",
      "0.562653562654 0.527649769585\n",
      "0.574018126888 0.437788018433\n",
      "0.610169491525 0.331797235023\n",
      "0.627329192547 0.232718894009\n",
      "0.686046511628 0.135944700461\n",
      "0.785714285714 0.0253456221198\n",
      "1 0.0\n"
     ]
    }
   ],
   "source": [
    "prec_list = []\n",
    "rec_list = []\n",
    "for thresh in np.linspace(0,1,101):\n",
    "    founded = thresh_matrix(X_founded,thresh)\n",
    "    prec, rec = precision_recall(X,M,founded)\n",
    "    prec_list.append(prec)\n",
    "    rec_list.append(rec)\n",
    "    print prec,rec"
   ]
  },
  {
   "cell_type": "code",
   "execution_count": 45,
   "metadata": {},
   "outputs": [
    {
     "data": {
      "image/png": "[encoded data removed]",
      "text/plain": [
       "<matplotlib.figure.Figure at 0x117536390>"
      ]
     },
     "metadata": {},
     "output_type": "display_data"
    }
   ],
   "source": [
    "plt.plot(rec_list, prec_list, 'r')\n",
    "plt.title('Precision-Recall Curve')\n",
    "plt.xlabel('Recall')\n",
    "plt.ylabel('Precision')\n",
    "axes = plt.gca()\n",
    "axes.set_xlim([0,1])\n",
    "axes.set_ylim([0,1])\n",
    "plt.show()"
   ]
  },
  {
   "cell_type": "code",
   "execution_count": 46,
   "metadata": {},
   "outputs": [
    {
     "data": {
      "text/plain": [
       "0.54429275395393095"
      ]
     },
     "execution_count": 46,
     "metadata": {},
     "output_type": "execute_result"
    }
   ],
   "source": [
    "np.trapz(prec_list[::-1], x=rec_list[::-1])"
   ]
  },
  {
   "cell_type": "markdown",
   "metadata": {},
   "source": [
    "# Logistic Tensor Factorization"
   ]
  },
  {
   "cell_type": "code",
   "execution_count": 85,
   "metadata": {},
   "outputs": [],
   "source": [
    "entity1_ind_list = []\n",
    "entity2_ind_list = []\n",
    "vals_list = []\n",
    "for k in range(K):\n",
    "    entity1_ind = []\n",
    "    entity2_ind = []\n",
    "    vals = []\n",
    "    for i in range(I):\n",
    "        for j in range(J):\n",
    "            if M[k,i,j] == 1:\n",
    "                entity1_ind.append(i)\n",
    "                entity2_ind.append(j)\n",
    "                vals.append(X[k,i,j])\n",
    "    entity1_ind_list.append(entity1_ind)\n",
    "    entity2_ind_list.append(entity2_ind)\n",
    "    vals_list.append(vals)"
   ]
  },
  {
   "cell_type": "code",
   "execution_count": 86,
   "metadata": {},
   "outputs": [],
   "source": [
    "A_mat = tf.Variable(initial_value=tf.truncated_normal([I,R]), name='entities')\n",
    "R_mat_list = []\n",
    "res_list = []\n",
    "res_flatten_list = []\n",
    "for k in range(K):\n",
    "    R_mat_list.append(tf.Variable(initial_value=tf.truncated_normal([R,R])))\n",
    "    res_list.append(tf.sigmoid(tf.matmul(tf.matmul(A_mat,R_mat_list[k]),tf.transpose(A_mat))))\n",
    "    res_flatten_list.append(tf.reshape(res_list[k],[-1]))"
   ]
  },
  {
   "cell_type": "code",
   "execution_count": 87,
   "metadata": {},
   "outputs": [],
   "source": [
    "founded_list = []\n",
    "for k in range(K):\n",
    "    founded_list.append(tf.gather(res_flatten_list[k],entity1_ind_list[k]*tf.shape(res_list[k])[1]+entity2_ind_list[k]))"
   ]
  },
  {
   "cell_type": "code",
   "execution_count": 88,
   "metadata": {},
   "outputs": [],
   "source": [
    "op_list = []\n",
    "base_cost_list = []\n",
    "for k in range(K):\n",
    "    op_list.append(tf.add(tf.multiply(tf.log(founded_list[k]),vals_list[k]),tf.multiply(tf.log(tf.subtract(1.0,founded_list[k])),tf.subtract(1.0,vals_list[k]))))\n",
    "    base_cost_list.append(tf.multiply(-1.0,tf.reduce_sum(op_list[k])))\n",
    "    \n",
    "base_cost = tf.reduce_sum(base_cost_list)"
   ]
  },
  {
   "cell_type": "code",
   "execution_count": 89,
   "metadata": {},
   "outputs": [],
   "source": [
    "# regularization\n",
    "lda = tf.constant(.001, name='lambda')\n",
    "norm_sums = tf.add(tf.reduce_sum(tf.abs(A_mat, name='user_abs')),\n",
    "                   tf.reduce_sum(tf.abs(R_mat_list, name='item_abs')))\n",
    "regularizer = tf.multiply(norm_sums, lda, 'regularizer')\n",
    "\n",
    "cost = tf.add(base_cost, regularizer)"
   ]
  },
  {
   "cell_type": "code",
   "execution_count": 90,
   "metadata": {},
   "outputs": [],
   "source": [
    "# optimizer\n",
    "lr = tf.constant(.001, name='learning_rate')\n",
    "global_step = tf.Variable(0, trainable=False)\n",
    "learning_rate = tf.train.exponential_decay(lr, global_step, 10000, 0.96, staircase=True)\n",
    "optimizer = tf.train.GradientDescentOptimizer(learning_rate)\n",
    "training_step = optimizer.minimize(cost, global_step=global_step)"
   ]
  },
  {
   "cell_type": "code",
   "execution_count": 91,
   "metadata": {},
   "outputs": [],
   "source": [
    "# execute\n",
    "sess = tf.Session()\n",
    "init = tf.global_variables_initializer()\n",
    "sess.run(init)\n",
    "\n",
    "for i in xrange(300):\n",
    "    sess.run(training_step)"
   ]
  },
  {
   "cell_type": "code",
   "execution_count": 92,
   "metadata": {},
   "outputs": [
    {
     "name": "stdout",
     "output_type": "stream",
     "text": [
      "2.05802e-05\n"
     ]
    }
   ],
   "source": [
    "rhat = tf.gather(tf.gather(res_list[0], 0), 0)\n",
    "print str(sess.run(rhat))"
   ]
  },
  {
   "cell_type": "code",
   "execution_count": 93,
   "metadata": {},
   "outputs": [],
   "source": [
    "def founded_tensor():\n",
    "    th_first = []\n",
    "    for k in range(K):\n",
    "        for i in range(I):\n",
    "            for j in range(J):\n",
    "                th_first.append(tf.gather(tf.gather(res_list[k], i), j))\n",
    "    th_second = sess.run(th_first)\n",
    "    th_second = np.array(th_second)\n",
    "    th_second = th_second.reshape(K,I,J)\n",
    "    return th_second"
   ]
  },
  {
   "cell_type": "code",
   "execution_count": 94,
   "metadata": {},
   "outputs": [
    {
     "name": "stdout",
     "output_type": "stream",
     "text": [
      "0.19212040726 1.0\n",
      "0.269620253165 0.981566820276\n",
      "0.295264623955 0.976958525346\n",
      "0.315233785822 0.963133640553\n",
      "0.332792207792 0.944700460829\n",
      "0.352173913043 0.933179723502\n",
      "0.36890524379 0.923963133641\n",
      "0.378248315688 0.905529953917\n",
      "0.391959798995 0.898617511521\n",
      "0.405919661734 0.884792626728\n",
      "0.422048997773 0.873271889401\n",
      "0.432989690722 0.870967741935\n",
      "0.446833930705 0.861751152074\n",
      "0.451294697904 0.84331797235\n",
      "0.463508322663 0.834101382488\n",
      "0.467105263158 0.81797235023\n",
      "0.481582537517 0.8133640553\n",
      "0.494366197183 0.808755760369\n",
      "0.504385964912 0.794930875576\n",
      "0.517450682853 0.785714285714\n",
      "0.5265625 0.776497695853\n",
      "0.531847133758 0.769585253456\n",
      "0.530081300813 0.751152073733\n",
      "0.537437603993 0.744239631336\n",
      "0.547619047619 0.741935483871\n",
      "0.565062388592 0.730414746544\n",
      "0.576923076923 0.725806451613\n",
      "0.586142322097 0.721198156682\n",
      "0.594230769231 0.71198156682\n",
      "0.6 0.698156682028\n",
      "0.599198396794 0.688940092166\n",
      "0.607802874743 0.68202764977\n",
      "0.613445378151 0.672811059908\n",
      "0.618025751073 0.663594470046\n",
      "0.62091503268 0.65668202765\n",
      "0.636155606407 0.640552995392\n",
      "0.644705882353 0.63133640553\n",
      "0.652912621359 0.619815668203\n",
      "0.655086848635 0.608294930876\n",
      "0.655778894472 0.601382488479\n",
      "0.65903307888 0.596774193548\n",
      "0.671087533156 0.582949308756\n",
      "0.675824175824 0.566820276498\n",
      "0.682719546742 0.555299539171\n",
      "0.681034482759 0.546082949309\n",
      "0.684210526316 0.539170506912\n",
      "0.683582089552 0.527649769585\n",
      "0.69375 0.511520737327\n",
      "0.706451612903 0.504608294931\n",
      "0.711475409836 0.5\n",
      "0.711920529801 0.495391705069\n",
      "0.718120805369 0.493087557604\n",
      "0.720689655172 0.481566820276\n",
      "0.725352112676 0.47465437788\n",
      "0.723404255319 0.470046082949\n",
      "0.720588235294 0.451612903226\n",
      "0.721804511278 0.442396313364\n",
      "0.735408560311 0.435483870968\n",
      "0.741035856574 0.428571428571\n",
      "0.745967741935 0.426267281106\n",
      "0.755274261603 0.412442396313\n",
      "0.757575757576 0.403225806452\n",
      "0.757709251101 0.396313364055\n",
      "0.757847533632 0.389400921659\n",
      "0.753424657534 0.380184331797\n",
      "0.754716981132 0.36866359447\n",
      "0.768472906404 0.359447004608\n",
      "0.776041666667 0.34331797235\n",
      "0.779569892473 0.334101382488\n",
      "0.788888888889 0.327188940092\n",
      "0.798850574713 0.320276497696\n",
      "0.818181818182 0.311059907834\n",
      "0.815286624204 0.294930875576\n",
      "0.823529411765 0.290322580645\n",
      "0.823129251701 0.278801843318\n",
      "0.822695035461 0.267281105991\n",
      "0.818181818182 0.248847926267\n",
      "0.8203125 0.241935483871\n",
      "0.81746031746 0.23732718894\n",
      "0.819672131148 0.230414746544\n",
      "0.811965811966 0.218894009217\n",
      "0.808695652174 0.214285714286\n",
      "0.809090909091 0.205069124424\n",
      "0.798076923077 0.191244239631\n",
      "0.79 0.18202764977\n",
      "0.80412371134 0.179723502304\n",
      "0.811111111111 0.168202764977\n",
      "0.802469135802 0.149769585253\n",
      "0.815789473684 0.142857142857\n",
      "0.833333333333 0.138248847926\n",
      "0.833333333333 0.126728110599\n",
      "0.838709677419 0.119815668203\n",
      "0.847457627119 0.115207373272\n",
      "0.849056603774 0.103686635945\n",
      "0.846153846154 0.101382488479\n",
      "0.836734693878 0.0944700460829\n",
      "0.829268292683 0.0783410138249\n",
      "0.857142857143 0.0691244239631\n",
      "0.862068965517 0.0576036866359\n",
      "0.888888888889 0.036866359447\n",
      "1 0.0\n"
     ]
    }
   ],
   "source": [
    "prec_list = []\n",
    "rec_list = []\n",
    "Data_found = founded_tensor()\n",
    "for thresh in np.linspace(0,1,101):\n",
    "    founded = thresh_matrix(Data_found,thresh)\n",
    "    prec, rec = precision_recall(X,M,founded)\n",
    "    prec_list.append(prec)\n",
    "    rec_list.append(rec)\n",
    "    print prec,rec"
   ]
  },
  {
   "cell_type": "code",
   "execution_count": 95,
   "metadata": {},
   "outputs": [
    {
     "data": {
      "image/png": "[encoded data removed]",
      "text/plain": [
       "<matplotlib.figure.Figure at 0x12726ef90>"
      ]
     },
     "metadata": {},
     "output_type": "display_data"
    }
   ],
   "source": [
    "plt.plot(rec_list, prec_list, 'r')\n",
    "plt.title('Precision-Recall Curve')\n",
    "plt.xlabel('Recall')\n",
    "plt.ylabel('Precision')\n",
    "axes = plt.gca()\n",
    "axes.set_xlim([0,1])\n",
    "axes.set_ylim([0,1])\n",
    "plt.show()"
   ]
  },
  {
   "cell_type": "code",
   "execution_count": 96,
   "metadata": {},
   "outputs": [
    {
     "data": {
      "text/plain": [
       "0.66570394583801173"
      ]
     },
     "execution_count": 96,
     "metadata": {},
     "output_type": "execute_result"
    }
   ],
   "source": [
    "np.trapz(prec_list[::-1], x=rec_list[::-1])"
   ]
  },
  {
   "cell_type": "code",
   "execution_count": null,
   "metadata": {},
   "outputs": [],
   "source": []
  }
 ],
 "metadata": {
  "kernelspec": {
   "display_name": "Python 2",
   "language": "python",
   "name": "python2"
  },
  "language_info": {
   "codemirror_mode": {
    "name": "ipython",
    "version": 2
   },
   "file_extension": ".py",
   "mimetype": "text/x-python",
   "name": "python",
   "nbconvert_exporter": "python",
   "pygments_lexer": "ipython2",
   "version": "2.7.13"
  }
 },
 "nbformat": 4,
 "nbformat_minor": 2
}
